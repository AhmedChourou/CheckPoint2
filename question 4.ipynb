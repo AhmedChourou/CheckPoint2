{
 "cells": [
  {
   "cell_type": "code",
   "execution_count": null,
   "id": "3cea1305-821c-4794-b0ee-a11f96ab5aa2",
   "metadata": {},
   "outputs": [],
   "source": [
    "s=('')\n",
    "for i in range(2000,3201):\n",
    "    if i%7==0 and not i%5==0:\n",
    "        s=s+'-'+str(i)\n",
    "print(s)"
   ]
  },
  {
   "cell_type": "code",
   "execution_count": null,
   "id": "78f6bc00-6751-49e9-a4f5-14cb5ca9e6f6",
   "metadata": {},
   "outputs": [],
   "source": []
  }
 ],
 "metadata": {
  "kernelspec": {
   "display_name": "Python 3",
   "language": "python",
   "name": "python3"
  },
  "language_info": {
   "codemirror_mode": {
    "name": "ipython",
    "version": 3
   },
   "file_extension": ".py",
   "mimetype": "text/x-python",
   "name": "python",
   "nbconvert_exporter": "python",
   "pygments_lexer": "ipython3",
   "version": "3.8.8"
  }
 },
 "nbformat": 4,
 "nbformat_minor": 5
}
