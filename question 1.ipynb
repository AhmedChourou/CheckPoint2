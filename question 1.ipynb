{
 "cells": [
  {
   "cell_type": "code",
   "execution_count": null,
   "id": "18f44f37-fad7-4c0d-9e53-1958c4a6a326",
   "metadata": {},
   "outputs": [],
   "source": [
    "fn=input('your first name:')\n",
    "ln=input('your last name:')\n",
    "n=(fn+' '+ln)\n",
    "print(n[::-1])"
   ]
  },
  {
   "cell_type": "code",
   "execution_count": null,
   "id": "38c4bc9b-1ac4-4d11-8c91-66c5f4ba54b3",
   "metadata": {},
   "outputs": [],
   "source": []
  }
 ],
 "metadata": {
  "kernelspec": {
   "display_name": "Python 3",
   "language": "python",
   "name": "python3"
  },
  "language_info": {
   "codemirror_mode": {
    "name": "ipython",
    "version": 3
   },
   "file_extension": ".py",
   "mimetype": "text/x-python",
   "name": "python",
   "nbconvert_exporter": "python",
   "pygments_lexer": "ipython3",
   "version": "3.8.8"
  }
 },
 "nbformat": 4,
 "nbformat_minor": 5
}
