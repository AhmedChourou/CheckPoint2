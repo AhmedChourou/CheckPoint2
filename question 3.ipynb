{
 "cells": [
  {
   "cell_type": "code",
   "execution_count": null,
   "id": "b6655131-32c4-478b-9135-c5f4bc4394f2",
   "metadata": {},
   "outputs": [],
   "source": [
    "a=int(input('enter number: '))\n",
    "if a%2==0:\n",
    "    print('this is an even number')\n",
    "else:\n",
    "    print('this is an odd number')"
   ]
  },
  {
   "cell_type": "code",
   "execution_count": null,
   "id": "aec2fc1f-506b-402f-80d5-95cab0948c54",
   "metadata": {},
   "outputs": [],
   "source": []
  }
 ],
 "metadata": {
  "kernelspec": {
   "display_name": "Python 3",
   "language": "python",
   "name": "python3"
  },
  "language_info": {
   "codemirror_mode": {
    "name": "ipython",
    "version": 3
   },
   "file_extension": ".py",
   "mimetype": "text/x-python",
   "name": "python",
   "nbconvert_exporter": "python",
   "pygments_lexer": "ipython3",
   "version": "3.8.8"
  }
 },
 "nbformat": 4,
 "nbformat_minor": 5
}
