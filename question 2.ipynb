{
 "cells": [
  {
   "cell_type": "code",
   "execution_count": null,
   "id": "f887e0f6-0d81-40cd-92cf-baf6deeda62e",
   "metadata": {},
   "outputs": [],
   "source": [
    "n=str(input(\"enter n: \"))\n",
    "a=n+n\n",
    "b=n+n+n\n",
    "s=int(n)+int(a)+int(b)\n",
    "s=str(s)\n",
    "print(s+' ('+n+'+'+a+'+'+b+')')"
   ]
  },
  {
   "cell_type": "code",
   "execution_count": null,
   "id": "3a5620bf-363d-4a9f-937b-a2bbd9e10e0e",
   "metadata": {},
   "outputs": [],
   "source": []
  }
 ],
 "metadata": {
  "kernelspec": {
   "display_name": "Python 3",
   "language": "python",
   "name": "python3"
  },
  "language_info": {
   "codemirror_mode": {
    "name": "ipython",
    "version": 3
   },
   "file_extension": ".py",
   "mimetype": "text/x-python",
   "name": "python",
   "nbconvert_exporter": "python",
   "pygments_lexer": "ipython3",
   "version": "3.8.8"
  }
 },
 "nbformat": 4,
 "nbformat_minor": 5
}
