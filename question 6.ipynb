{
 "cells": [
  {
   "cell_type": "code",
   "execution_count": null,
   "id": "cefaa9a2-f218-4ad3-a25c-e0626f3f1dbc",
   "metadata": {},
   "outputs": [],
   "source": [
    "a=str(input('enter sentence: '))\n",
    "print(a[::2])"
   ]
  },
  {
   "cell_type": "code",
   "execution_count": null,
   "id": "9b712843-f85c-4dc4-ae15-62911aea3dea",
   "metadata": {},
   "outputs": [],
   "source": []
  }
 ],
 "metadata": {
  "kernelspec": {
   "display_name": "Python 3",
   "language": "python",
   "name": "python3"
  },
  "language_info": {
   "codemirror_mode": {
    "name": "ipython",
    "version": 3
   },
   "file_extension": ".py",
   "mimetype": "text/x-python",
   "name": "python",
   "nbconvert_exporter": "python",
   "pygments_lexer": "ipython3",
   "version": "3.8.8"
  }
 },
 "nbformat": 4,
 "nbformat_minor": 5
}
